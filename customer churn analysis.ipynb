{
 "cells": [
  {
   "cell_type": "markdown",
   "id": "c09f09be-33c9-4e47-a352-46d7bc804bd0",
   "metadata": {},
   "source": [
    "# Customer Churn Data Analysis📶📈"
   ]
  },
  {
   "cell_type": "code",
   "execution_count": 4,
   "id": "d33bb208-8885-40a6-89a3-d17c9da77a41",
   "metadata": {},
   "outputs": [
    {
     "name": "stdout",
     "output_type": "stream",
     "text": [
      "   Customer Name  Customer Id Software Platform  Gender  Age   Plan Type  \\\n",
      "0            Jack        C001             Canva  Female   43  Enterprise   \n",
      "1             max        C002             Canva  Female   31  Enterprise   \n",
      "2             Sam        C003              Zoom  Female   43  Enterprise   \n",
      "3             Leo        C004             Canva  Female   23  Enterprise   \n",
      "4             Ben        C005              Zoom    Male   24  Enterprise   \n",
      "5             Tom        C006             Canva  Female   21  Enterprise   \n",
      "6             Ray        C007             Canva  Female   25         Pro   \n",
      "7             Dan        C008             Canva    Male   25  Enterprise   \n",
      "8             Jay        C009             Canva  Female   36       Basic   \n",
      "9             eli        C010              Zoom  Female   22  Enterprise   \n",
      "10            tim        C011              Zoom  Female   47       Basic   \n",
      "11            Roy        C012             Canva    Male   48  Enterprise   \n",
      "12            Gus        C013             Canva    Male   49         Pro   \n",
      "13            Ned        C014              Zoom  Female   28       Basic   \n",
      "14            ted        C015             Canva    Male   44       Basic   \n",
      "15             Ai        C016             Canva    Male   20         Pro   \n",
      "16            Bob        C017              Zoom  Female   31  Enterprise   \n",
      "17            Cal        C018              Zoom    Male   39       Basic   \n",
      "18            ike        C019              Zoom  Female   20  Enterprise   \n",
      "19            jim        C020              Zoom  Female   41  Enterprise   \n",
      "20            loe        C021             Canva    Male   44       Basic   \n",
      "21            ron        C022              Zoom    Male   44         Pro   \n",
      "22           vick        C023              Zoom  Female   41         Pro   \n",
      "23           hall        C024             Canva  Female   41  Enterprise   \n",
      "24         ashton        C025             Canva    Male   30         Pro   \n",
      "25            sid        C026             Canva  Female   22  Enterprise   \n",
      "26          damm         C027             Canva    Male   47       Basic   \n",
      "27           hudd        C028              Zoom  Female   26       Basic   \n",
      "28            zed        C029              Zoom    Male   44         Pro   \n",
      "29            NaN        C030              Zoom    Male   28       Basic   \n",
      "\n",
      "    Tenure Months last_active_date  Monthly Usage  Total Bill Billing Status  \\\n",
      "0              16       2023-03-04            551        4959        Pending   \n",
      "1              12       2024-02-17            577        4039           Paid   \n",
      "2               2       2022-11-22            514        3598        Pending   \n",
      "3              21       2023-11-22            821        4926           Paid   \n",
      "4               7       2022-11-24            450        3150        Pending   \n",
      "5               7       2023-12-25            307        2149        Pending   \n",
      "6               9       2023-06-09            316        2528        Pending   \n",
      "7              10       2024-02-07            288        2304           Paid   \n",
      "8              23       2024-03-14            998        6986        Pending   \n",
      "9              19       2023-04-01            853        7677           Paid   \n",
      "10              4       2022-12-28            715        3575           Paid   \n",
      "11              1       2024-02-03            265        1590        Pending   \n",
      "12              8       2023-07-02            256        2048           Paid   \n",
      "13             19       2024-06-09            455        2730           Paid   \n",
      "14              3       2023-04-30            976        6832        Pending   \n",
      "15              5       2023-04-22            948        9480        Pending   \n",
      "16             15       2023-01-01            433        2165        Pending   \n",
      "17              3       2022-12-23            847        5929        Pending   \n",
      "18              5       2023-08-13            891        4455        Pending   \n",
      "19             15       2022-11-13            141         987           Paid   \n",
      "20             18       2022-12-19            102         510        Pending   \n",
      "21             14       2022-12-07            992        9920        Pending   \n",
      "22             17       2024-02-06            106         954        Pending   \n",
      "23              6       2023-02-26            705        5640        Pending   \n",
      "24             20       2023-02-02            429        2574        Pending   \n",
      "25             20       2024-01-27            386        3860        Pending   \n",
      "26              3       2023-08-05            599        3594        Pending   \n",
      "27              3       2023-03-29            366        2928           Paid   \n",
      "28             23       2023-11-24            645        6450        Pending   \n",
      "29             13       2023-08-09            177        1062        Pending   \n",
      "\n",
      "    Churn  \n",
      "0       0  \n",
      "1       0  \n",
      "2       0  \n",
      "3       0  \n",
      "4       1  \n",
      "5       0  \n",
      "6       1  \n",
      "7       1  \n",
      "8       1  \n",
      "9       0  \n",
      "10      0  \n",
      "11      0  \n",
      "12      0  \n",
      "13      0  \n",
      "14      0  \n",
      "15      0  \n",
      "16      0  \n",
      "17      0  \n",
      "18      1  \n",
      "19      0  \n",
      "20      1  \n",
      "21      0  \n",
      "22      0  \n",
      "23      1  \n",
      "24      0  \n",
      "25      1  \n",
      "26      0  \n",
      "27      1  \n",
      "28      1  \n",
      "29      0  \n"
     ]
    }
   ],
   "source": [
    "import pandas as pd\n",
    "churn_data=\"customer_churn_saas_telecom.xlsx\"\n",
    "turning_data=pd.read_excel(churn_data)\n",
    "turned_data=turning_data.rename(columns={'Customer Name':'customer_name','customer_id':'Customer Id','software':'Software Platform','gender':'Gender','age':'Age','plan_type':'Plan Type',\n",
    "                                      'tenure_months':'Tenure Months','last_active_data':'Last Activity','monthly_usage':'Monthly Usage','total_bill':\n",
    "                                      'Total Bill','bill_status':'Billing Status','churn':'Churn'})\n",
    "print(turned_data)\n",
    "\n",
    "\n",
    "                                      "
   ]
  },
  {
   "cell_type": "markdown",
   "id": "0f971065-16dc-427f-ae53-75096a486376",
   "metadata": {},
   "source": [
    "### Tenuer months --> Number of months used at a particular platform\n",
    "### Monthly usag --> how many minute the zoom app is used and how many design is done in canva by the user\n",
    "### Churn --> 1= customer has leaved and sighn out the platform and 0= customer  is still using the platform "
   ]
  },
  {
   "cell_type": "markdown",
   "id": "0c94af15-6ed5-46d9-aee6-d5e882273133",
   "metadata": {},
   "source": [
    "### Number Of Customers are Churn :\n",
    "\n",
    "\n"
   ]
  },
  {
   "cell_type": "code",
   "execution_count": 5,
   "id": "c26d3e06-3f6d-4ea1-a57c-03e2ade41fe4",
   "metadata": {},
   "outputs": [
    {
     "name": "stdout",
     "output_type": "stream",
     "text": [
      "📉NUMBER OF CUSTOMERS ARE CHURN\n",
      "   Customer Name  Customer Id Software Platform  Gender  Age   Plan Type  \\\n",
      "4             Ben        C005              Zoom    Male   24  Enterprise   \n",
      "6             Ray        C007             Canva  Female   25         Pro   \n",
      "7             Dan        C008             Canva    Male   25  Enterprise   \n",
      "8             Jay        C009             Canva  Female   36       Basic   \n",
      "18            ike        C019              Zoom  Female   20  Enterprise   \n",
      "20            loe        C021             Canva    Male   44       Basic   \n",
      "23           hall        C024             Canva  Female   41  Enterprise   \n",
      "25            sid        C026             Canva  Female   22  Enterprise   \n",
      "27           hudd        C028              Zoom  Female   26       Basic   \n",
      "28            zed        C029              Zoom    Male   44         Pro   \n",
      "\n",
      "    Tenure Months last_active_date  Monthly Usage  Total Bill Billing Status  \\\n",
      "4               7       2022-11-24            450        3150        Pending   \n",
      "6               9       2023-06-09            316        2528        Pending   \n",
      "7              10       2024-02-07            288        2304           Paid   \n",
      "8              23       2024-03-14            998        6986        Pending   \n",
      "18              5       2023-08-13            891        4455        Pending   \n",
      "20             18       2022-12-19            102         510        Pending   \n",
      "23              6       2023-02-26            705        5640        Pending   \n",
      "25             20       2024-01-27            386        3860        Pending   \n",
      "27              3       2023-03-29            366        2928           Paid   \n",
      "28             23       2023-11-24            645        6450        Pending   \n",
      "\n",
      "    Churn  \n",
      "4       1  \n",
      "6       1  \n",
      "7       1  \n",
      "8       1  \n",
      "18      1  \n",
      "20      1  \n",
      "23      1  \n",
      "25      1  \n",
      "27      1  \n",
      "28      1  \n"
     ]
    }
   ],
   "source": [
    "print(\"📉NUMBER OF CUSTOMERS ARE CHURN\")\n",
    "leaved_data=turned_data[turned_data['Churn']==1]\n",
    "print(leaved_data)"
   ]
  },
  {
   "cell_type": "markdown",
   "id": "b7fb9899-4071-407e-9ef7-a6151b1bbdf2",
   "metadata": {},
   "source": [
    "### Total Number Of Customers Till Now Using :"
   ]
  },
  {
   "cell_type": "code",
   "execution_count": 6,
   "id": "a6500f4a-7cbf-4174-91b3-9b84f582ae19",
   "metadata": {},
   "outputs": [
    {
     "name": "stdout",
     "output_type": "stream",
     "text": [
      "📈TOTAL NUMBER OF CUSTOMERS TILL NOW USING\n",
      "Customer Name        19\n",
      "Customer Id          20\n",
      "Software Platform    20\n",
      "Gender               20\n",
      "Age                  20\n",
      "Plan Type            20\n",
      "Tenure Months        20\n",
      "last_active_date     20\n",
      "Monthly Usage        20\n",
      "Total Bill           20\n",
      "Billing Status       20\n",
      "Churn                20\n",
      "dtype: int64\n"
     ]
    }
   ],
   "source": [
    "print(\"📈TOTAL NUMBER OF CUSTOMERS TILL NOW USING\")\n",
    "till_now_customer=turned_data[turned_data['Churn']==0].count()\n",
    "print(till_now_customer)"
   ]
  },
  {
   "cell_type": "markdown",
   "id": "8d0ef0d4-a1fb-4fd4-894c-3c8c445584d2",
   "metadata": {},
   "source": [
    "### Customer Signing According To The Plan :"
   ]
  },
  {
   "cell_type": "code",
   "execution_count": 7,
   "id": "ef77f14e-7b87-4cea-903d-c6fc41bf7d3b",
   "metadata": {},
   "outputs": [
    {
     "name": "stdout",
     "output_type": "stream",
     "text": [
      "📶CUSTOMER SIGHNING ACCORDING TO PLAN\n",
      "   Customer Id Software Platform   Plan Type\n",
      "0         C001             Canva  Enterprise\n",
      "1         C002             Canva  Enterprise\n",
      "2         C003              Zoom  Enterprise\n",
      "3         C004             Canva  Enterprise\n",
      "4         C005              Zoom  Enterprise\n",
      "5         C006             Canva  Enterprise\n",
      "6         C007             Canva         Pro\n",
      "7         C008             Canva  Enterprise\n",
      "8         C009             Canva       Basic\n",
      "9         C010              Zoom  Enterprise\n",
      "10        C011              Zoom       Basic\n",
      "11        C012             Canva  Enterprise\n",
      "12        C013             Canva         Pro\n",
      "13        C014              Zoom       Basic\n",
      "14        C015             Canva       Basic\n",
      "15        C016             Canva         Pro\n",
      "16        C017              Zoom  Enterprise\n",
      "17        C018              Zoom       Basic\n",
      "18        C019              Zoom  Enterprise\n",
      "19        C020              Zoom  Enterprise\n",
      "20        C021             Canva       Basic\n",
      "21        C022              Zoom         Pro\n",
      "22        C023              Zoom         Pro\n",
      "23        C024             Canva  Enterprise\n",
      "24        C025             Canva         Pro\n",
      "25        C026             Canva  Enterprise\n",
      "26        C027             Canva       Basic\n",
      "27        C028              Zoom       Basic\n",
      "28        C029              Zoom         Pro\n",
      "29        C030              Zoom       Basic\n"
     ]
    }
   ],
   "source": [
    "print(\"📶CUSTOMER SIGHNING ACCORDING TO PLAN\")\n",
    "plan=turned_data[['Customer Id','Software Platform','Plan Type']]\n",
    "print(plan)"
   ]
  },
  {
   "cell_type": "markdown",
   "id": "14ef2c60-8e02-4450-acb8-4b6673a2b4cb",
   "metadata": {},
   "source": [
    "### Most Number Of Plans Used By Customers  :"
   ]
  },
  {
   "cell_type": "code",
   "execution_count": 8,
   "id": "b183fb0e-6c55-4b26-a008-121ddae387a4",
   "metadata": {},
   "outputs": [
    {
     "name": "stdout",
     "output_type": "stream",
     "text": [
      "💹MOST NUMBER OF PLANS USED BY CUSTOMERS\n",
      "Plan Type\n",
      "Basic          9\n",
      "Enterprise    14\n",
      "Pro            7\n",
      "Name: Customer Id, dtype: int64\n"
     ]
    }
   ],
   "source": [
    "print(\"💹MOST NUMBER OF PLANS USED BY CUSTOMERS\")\n",
    "plans=turned_data.groupby('Plan Type')['Customer Id'].count()\n",
    "print(plans)"
   ]
  },
  {
   "cell_type": "markdown",
   "id": "891bb2dd-de21-467f-8b4e-ebe8646328f4",
   "metadata": {},
   "source": [
    "### Total Number OF Male Customers & Their Details :"
   ]
  },
  {
   "cell_type": "code",
   "execution_count": 9,
   "id": "2e174b92-3f9f-4260-a5bf-35a2c4f96fc6",
   "metadata": {},
   "outputs": [
    {
     "name": "stdout",
     "output_type": "stream",
     "text": [
      "📈 TOTAL NUMBER OF MALE CUSTOMERS AVAILABLE\n",
      "30\n",
      "📅MALE CUSTOMERS DETAILS\n",
      "Customer Name   Customer Id  Software Platform  Gender  Age  Plan Type   Tenure Months  last_active_date  Monthly Usage  Total Bill  Billing Status  Churn\n",
      "Ai              C016         Canva              Male    20   Pro         5              2023-04-22        948            9480        Pending         0        1\n",
      "Ben             C005         Zoom               Male    24   Enterprise  7              2022-11-24        450            3150        Pending         1        1\n",
      "Cal             C018         Zoom               Male    39   Basic       3              2022-12-23        847            5929        Pending         0        1\n",
      "Dan             C008         Canva              Male    25   Enterprise  10             2024-02-07        288            2304        Paid            1        1\n",
      "Gus             C013         Canva              Male    49   Pro         8              2023-07-02        256            2048        Paid            0        1\n",
      "Roy             C012         Canva              Male    48   Enterprise  1              2024-02-03        265            1590        Pending         0        1\n",
      "ashton          C025         Canva              Male    30   Pro         20             2023-02-02        429            2574        Pending         0        1\n",
      "damm            C027         Canva              Male    47   Basic       3              2023-08-05        599            3594        Pending         0        1\n",
      "loe             C021         Canva              Male    44   Basic       18             2022-12-19        102            510         Pending         1        1\n",
      "ron             C022         Zoom               Male    44   Pro         14             2022-12-07        992            9920        Pending         0        1\n",
      "ted             C015         Canva              Male    44   Basic       3              2023-04-30        976            6832        Pending         0        1\n",
      "zed             C029         Zoom               Male    44   Pro         23             2023-11-24        645            6450        Pending         1        1\n",
      "Name: count, dtype: int64\n"
     ]
    }
   ],
   "source": [
    "print(\"📈 TOTAL NUMBER OF MALE CUSTOMERS AVAILABLE\")\n",
    "male_count=(turned_data['Gender']=='Male').count()\n",
    "print(male_count)\n",
    "print(\"📅MALE CUSTOMERS DETAILS\")\n",
    "male=turned_data[turned_data['Gender']=='Male'].value_counts()\n",
    "print(male)"
   ]
  },
  {
   "cell_type": "markdown",
   "id": "673da117-4873-44f7-b06d-303f0f474a8a",
   "metadata": {},
   "source": [
    "### Total Number Of Female Customers & Their Details :"
   ]
  },
  {
   "cell_type": "code",
   "execution_count": 10,
   "id": "fa6bc44d-0269-453a-ae40-1f91803b8566",
   "metadata": {},
   "outputs": [
    {
     "name": "stdout",
     "output_type": "stream",
     "text": [
      "📈 TOTAL NUMBER OF FEMALE CUSTOMERS AVAILABLE\n",
      "30\n",
      "📅FEMALE CUSTOMERS DETAILS\n",
      "Customer Name   Customer Id  Software Platform  Gender  Age  Plan Type   Tenure Months  last_active_date  Monthly Usage  Total Bill  Billing Status  Churn\n",
      "Bob             C017         Zoom               Female  31   Enterprise  15             2023-01-01        433            2165        Pending         0        1\n",
      "Jack            C001         Canva              Female  43   Enterprise  16             2023-03-04        551            4959        Pending         0        1\n",
      "Jay             C009         Canva              Female  36   Basic       23             2024-03-14        998            6986        Pending         1        1\n",
      "Leo             C004         Canva              Female  23   Enterprise  21             2023-11-22        821            4926        Paid            0        1\n",
      "Ned             C014         Zoom               Female  28   Basic       19             2024-06-09        455            2730        Paid            0        1\n",
      "Ray             C007         Canva              Female  25   Pro         9              2023-06-09        316            2528        Pending         1        1\n",
      "Sam             C003         Zoom               Female  43   Enterprise  2              2022-11-22        514            3598        Pending         0        1\n",
      "Tom             C006         Canva              Female  21   Enterprise  7              2023-12-25        307            2149        Pending         0        1\n",
      "eli             C010         Zoom               Female  22   Enterprise  19             2023-04-01        853            7677        Paid            0        1\n",
      "hall            C024         Canva              Female  41   Enterprise  6              2023-02-26        705            5640        Pending         1        1\n",
      "hudd            C028         Zoom               Female  26   Basic       3              2023-03-29        366            2928        Paid            1        1\n",
      "ike             C019         Zoom               Female  20   Enterprise  5              2023-08-13        891            4455        Pending         1        1\n",
      "jim             C020         Zoom               Female  41   Enterprise  15             2022-11-13        141            987         Paid            0        1\n",
      "max             C002         Canva              Female  31   Enterprise  12             2024-02-17        577            4039        Paid            0        1\n",
      "sid             C026         Canva              Female  22   Enterprise  20             2024-01-27        386            3860        Pending         1        1\n",
      "tim             C011         Zoom               Female  47   Basic       4              2022-12-28        715            3575        Paid            0        1\n",
      "vick            C023         Zoom               Female  41   Pro         17             2024-02-06        106            954         Pending         0        1\n",
      "Name: count, dtype: int64\n"
     ]
    }
   ],
   "source": [
    "print(\"📈 TOTAL NUMBER OF FEMALE CUSTOMERS AVAILABLE\")\n",
    "female_count=(turned_data['Gender']=='Female').count()\n",
    "print(female_count)\n",
    "print(\"📅FEMALE CUSTOMERS DETAILS\")\n",
    "female=turned_data[turned_data['Gender']=='Female'].value_counts()\n",
    "print(female)"
   ]
  },
  {
   "cell_type": "markdown",
   "id": "13d1adb2-608a-47c7-8082-eb15f406e792",
   "metadata": {},
   "source": [
    "### Number Of Female Customers are Using Platforms :"
   ]
  },
  {
   "cell_type": "code",
   "execution_count": 11,
   "id": "4de4d289-9e87-44aa-b061-e33dc858b4b5",
   "metadata": {},
   "outputs": [
    {
     "name": "stdout",
     "output_type": "stream",
     "text": [
      "📶NUMBER OF FEMALE CUSTOMERS ARE USING THE PLATFORMS\n",
      "Software Platform\n",
      "Canva    8\n",
      "Zoom     9\n",
      "Name: Gender, dtype: int64\n"
     ]
    }
   ],
   "source": [
    "print(\"📶NUMBER OF FEMALE CUSTOMERS ARE USING THE PLATFORMS\")\n",
    "female_customers=turned_data[turned_data['Gender']=='Female'].groupby('Software Platform')['Gender'].count()\n",
    "print(female_customers)"
   ]
  },
  {
   "cell_type": "markdown",
   "id": "262e26e9-58a2-4389-bf08-ee2a71be9272",
   "metadata": {},
   "source": [
    "### Number Of Male Customers  are Using Software Platforms :"
   ]
  },
  {
   "cell_type": "code",
   "execution_count": 12,
   "id": "850b9c11-991d-4521-a6db-c7f718d83fa3",
   "metadata": {},
   "outputs": [
    {
     "name": "stdout",
     "output_type": "stream",
     "text": [
      "📶NUMBER OF MALE CUSTOMERS ARE USING THE PLATFORMS\n",
      "Software Platform\n",
      "Canva    8\n",
      "Zoom     5\n",
      "Name: Gender, dtype: int64\n"
     ]
    }
   ],
   "source": [
    "print(\"📶NUMBER OF MALE CUSTOMERS ARE USING THE PLATFORMS\")\n",
    "male_customers=turned_data[turned_data['Gender']=='Male'].groupby('Software Platform')['Gender'].count()\n",
    "print(male_customers)"
   ]
  },
  {
   "cell_type": "markdown",
   "id": "fc6217f0-3644-4a44-a7a7-afcc56527ad1",
   "metadata": {},
   "source": [
    "### Highest Total Bill :"
   ]
  },
  {
   "cell_type": "code",
   "execution_count": 18,
   "id": "55ce7605-5e24-41ba-9bba-dfbebd644371",
   "metadata": {},
   "outputs": [
    {
     "name": "stdout",
     "output_type": "stream",
     "text": [
      "Hihgest Total Bill\n",
      "   Customer Name  Customer Id Software Platform Gender  Age Plan Type  \\\n",
      "21            ron        C022              Zoom   Male   44       Pro   \n",
      "\n",
      "    Tenure Months last_active_date  Monthly Usage  Total Bill Billing Status  \\\n",
      "21             14       2022-12-07            992        9920        Pending   \n",
      "\n",
      "    Churn  \n",
      "21      0  \n"
     ]
    }
   ],
   "source": [
    "print(\"HIGHEST TOTAL BILL\")\n",
    "high_bill=turned_data['Total Bill'].max()\n",
    "result=turned_data[turned_data['Total Bill']==high_bill]\n",
    "print(result)"
   ]
  },
  {
   "cell_type": "markdown",
   "id": "f4a50c21-5d85-4bbd-80c5-ccf8f40eea35",
   "metadata": {},
   "source": [
    "###  Status Of Pending Bills :"
   ]
  },
  {
   "cell_type": "code",
   "execution_count": 23,
   "id": "1c36ad22-bd26-4236-91a1-6c4f92b93079",
   "metadata": {},
   "outputs": [
    {
     "name": "stdout",
     "output_type": "stream",
     "text": [
      "bill paid and not paid\n",
      "   Customer Name  Customer Id Software Platform  Gender  Age   Plan Type  \\\n",
      "0            Jack        C001             Canva  Female   43  Enterprise   \n",
      "2             Sam        C003              Zoom  Female   43  Enterprise   \n",
      "4             Ben        C005              Zoom    Male   24  Enterprise   \n",
      "5             Tom        C006             Canva  Female   21  Enterprise   \n",
      "6             Ray        C007             Canva  Female   25         Pro   \n",
      "8             Jay        C009             Canva  Female   36       Basic   \n",
      "11            Roy        C012             Canva    Male   48  Enterprise   \n",
      "14            ted        C015             Canva    Male   44       Basic   \n",
      "15             Ai        C016             Canva    Male   20         Pro   \n",
      "16            Bob        C017              Zoom  Female   31  Enterprise   \n",
      "17            Cal        C018              Zoom    Male   39       Basic   \n",
      "18            ike        C019              Zoom  Female   20  Enterprise   \n",
      "20            loe        C021             Canva    Male   44       Basic   \n",
      "21            ron        C022              Zoom    Male   44         Pro   \n",
      "22           vick        C023              Zoom  Female   41         Pro   \n",
      "23           hall        C024             Canva  Female   41  Enterprise   \n",
      "24         ashton        C025             Canva    Male   30         Pro   \n",
      "25            sid        C026             Canva  Female   22  Enterprise   \n",
      "26          damm         C027             Canva    Male   47       Basic   \n",
      "28            zed        C029              Zoom    Male   44         Pro   \n",
      "29            NaN        C030              Zoom    Male   28       Basic   \n",
      "\n",
      "    Tenure Months last_active_date  Monthly Usage  Total Bill Billing Status  \\\n",
      "0              16       2023-03-04            551        4959        Pending   \n",
      "2               2       2022-11-22            514        3598        Pending   \n",
      "4               7       2022-11-24            450        3150        Pending   \n",
      "5               7       2023-12-25            307        2149        Pending   \n",
      "6               9       2023-06-09            316        2528        Pending   \n",
      "8              23       2024-03-14            998        6986        Pending   \n",
      "11              1       2024-02-03            265        1590        Pending   \n",
      "14              3       2023-04-30            976        6832        Pending   \n",
      "15              5       2023-04-22            948        9480        Pending   \n",
      "16             15       2023-01-01            433        2165        Pending   \n",
      "17              3       2022-12-23            847        5929        Pending   \n",
      "18              5       2023-08-13            891        4455        Pending   \n",
      "20             18       2022-12-19            102         510        Pending   \n",
      "21             14       2022-12-07            992        9920        Pending   \n",
      "22             17       2024-02-06            106         954        Pending   \n",
      "23              6       2023-02-26            705        5640        Pending   \n",
      "24             20       2023-02-02            429        2574        Pending   \n",
      "25             20       2024-01-27            386        3860        Pending   \n",
      "26              3       2023-08-05            599        3594        Pending   \n",
      "28             23       2023-11-24            645        6450        Pending   \n",
      "29             13       2023-08-09            177        1062        Pending   \n",
      "\n",
      "    Churn  \n",
      "0       0  \n",
      "2       0  \n",
      "4       1  \n",
      "5       0  \n",
      "6       1  \n",
      "8       1  \n",
      "11      0  \n",
      "14      0  \n",
      "15      0  \n",
      "16      0  \n",
      "17      0  \n",
      "18      1  \n",
      "20      1  \n",
      "21      0  \n",
      "22      0  \n",
      "23      1  \n",
      "24      0  \n",
      "25      1  \n",
      "26      0  \n",
      "28      1  \n",
      "29      0  \n"
     ]
    }
   ],
   "source": [
    "print(\"📝STATUS OF PENDING BILLS\")\n",
    "bill=turned_data[turned_data['Billing Status']=='Pending']\n",
    "print(bill)"
   ]
  },
  {
   "cell_type": "markdown",
   "id": "73984c4f-078a-4637-986b-e8c8541c63d4",
   "metadata": {},
   "source": [
    "### Status of Paid Bills :"
   ]
  },
  {
   "cell_type": "code",
   "execution_count": 44,
   "id": "8bb8e080-1984-4dbd-8211-afd3b8f9b0e3",
   "metadata": {},
   "outputs": [
    {
     "name": "stdout",
     "output_type": "stream",
     "text": [
      "✅STATUS OF PAID BILLS\n",
      "   Customer Name  Customer Id Software Platform  Gender  Age   Plan Type  \\\n",
      "1             max        C002             Canva  Female   31  Enterprise   \n",
      "3             Leo        C004             Canva  Female   23  Enterprise   \n",
      "7             Dan        C008             Canva    Male   25  Enterprise   \n",
      "9             eli        C010              Zoom  Female   22  Enterprise   \n",
      "10            tim        C011              Zoom  Female   47       Basic   \n",
      "12            Gus        C013             Canva    Male   49         Pro   \n",
      "13            Ned        C014              Zoom  Female   28       Basic   \n",
      "19            jim        C020              Zoom  Female   41  Enterprise   \n",
      "27           hudd        C028              Zoom  Female   26       Basic   \n",
      "\n",
      "    Tenure Months last_active_date  Monthly Usage  Total Bill Billing Status  \\\n",
      "1              12       2024-02-17            577        4039           Paid   \n",
      "3              21       2023-11-22            821        4926           Paid   \n",
      "7              10       2024-02-07            288        2304           Paid   \n",
      "9              19       2023-04-01            853        7677           Paid   \n",
      "10              4       2022-12-28            715        3575           Paid   \n",
      "12              8       2023-07-02            256        2048           Paid   \n",
      "13             19       2024-06-09            455        2730           Paid   \n",
      "19             15       2022-11-13            141         987           Paid   \n",
      "27              3       2023-03-29            366        2928           Paid   \n",
      "\n",
      "    Churn  \n",
      "1       0  \n",
      "3       0  \n",
      "7       1  \n",
      "9       0  \n",
      "10      0  \n",
      "12      0  \n",
      "13      0  \n",
      "19      0  \n",
      "27      1  \n"
     ]
    }
   ],
   "source": [
    "print(\"✅STATUS OF PAID BILLS\")\n",
    "paid_bills=turned_data[turned_data['Billing Status']=='Paid']\n",
    "print(paid_bills)"
   ]
  },
  {
   "cell_type": "markdown",
   "id": "21f2eecf-582c-4be8-8524-6d50199c3b45",
   "metadata": {},
   "source": [
    "### highest Pending Bills :"
   ]
  },
  {
   "cell_type": "code",
   "execution_count": 29,
   "id": "4f0b4fc7-f2e4-4d9c-ab40-e5c7849bda65",
   "metadata": {},
   "outputs": [
    {
     "name": "stdout",
     "output_type": "stream",
     "text": [
      "highest pending bill\n",
      "   Customer Name  Customer Id Software Platform  Gender  Age Plan Type  \\\n",
      "21            ron        C022              Zoom    Male   44       Pro   \n",
      "15             Ai        C016             Canva    Male   20       Pro   \n",
      "8             Jay        C009             Canva  Female   36     Basic   \n",
      "14            ted        C015             Canva    Male   44     Basic   \n",
      "28            zed        C029              Zoom    Male   44       Pro   \n",
      "\n",
      "    Tenure Months last_active_date  Monthly Usage  Total Bill Billing Status  \\\n",
      "21             14       2022-12-07            992        9920        Pending   \n",
      "15              5       2023-04-22            948        9480        Pending   \n",
      "8              23       2024-03-14            998        6986        Pending   \n",
      "14              3       2023-04-30            976        6832        Pending   \n",
      "28             23       2023-11-24            645        6450        Pending   \n",
      "\n",
      "    Churn  \n",
      "21      0  \n",
      "15      0  \n",
      "8       1  \n",
      "14      0  \n",
      "28      1  \n"
     ]
    }
   ],
   "source": [
    "print(\"📉HIGHEST PENDING BILLS\")\n",
    "not_paid=turned_data[turned_data['Billing Status']=='Pending']\n",
    "result=not_paid.sort_values('Total Bill',ascending=False).head(5)\n",
    "print(result)\n"
   ]
  },
  {
   "cell_type": "markdown",
   "id": "8051ca67-35ba-498d-8bc2-8216de2782f3",
   "metadata": {},
   "source": [
    "### Monthly Usage and Tenure Before Getting Churn"
   ]
  },
  {
   "cell_type": "code",
   "execution_count": 36,
   "id": "a14ff2a1-8598-4b61-93a5-b46108354383",
   "metadata": {},
   "outputs": [
    {
     "name": "stdout",
     "output_type": "stream",
     "text": [
      "📉MONTHLY USAGE AND TENURE\n",
      "    Monthly Usage  Tenure Months\n",
      "4             450              7\n",
      "6             316              9\n",
      "7             288             10\n",
      "8             998             23\n",
      "18            891              5\n",
      "20            102             18\n",
      "23            705              6\n",
      "25            386             20\n",
      "27            366              3\n",
      "28            645             23\n"
     ]
    }
   ],
   "source": [
    "print(\"📉MONTHLY USAGE AND TENURE\")\n",
    "getting_churn=turned_data[turned_data['Churn']==1][['Monthly Usage','Tenure Months']]\n",
    "print(getting_churn)                                                    "
   ]
  },
  {
   "cell_type": "markdown",
   "id": "60ab1620-cc69-435d-af3d-4fd865885f68",
   "metadata": {},
   "source": [
    "### Gender With Highest User Plan"
   ]
  },
  {
   "cell_type": "code",
   "execution_count": 35,
   "id": "c2b7cbc6-f575-49e9-9f21-4d026d8f4131",
   "metadata": {},
   "outputs": [
    {
     "name": "stdout",
     "output_type": "stream",
     "text": [
      "📈GENDER WITH HIGHEST USER PLAN\n",
      "Gender\n",
      "Female    11\n",
      "Male       3\n",
      "Name: count, dtype: int64\n"
     ]
    }
   ],
   "source": [
    "print(\"📈GENDER WITH HIGHEST USER PLAN\")\n",
    "high_plan=turned_data[turned_data['Plan Type']=='Enterprise']['Gender'].value_counts()\n",
    "print(high_plan)"
   ]
  },
  {
   "cell_type": "markdown",
   "id": "addb70dd-0efb-4245-80e7-eeedf43c11a4",
   "metadata": {},
   "source": [
    "### Highest Age People Used PLatform"
   ]
  },
  {
   "cell_type": "code",
   "execution_count": 45,
   "id": "bb2d6c48-e4f4-48a6-b6da-1fdbc606fd41",
   "metadata": {},
   "outputs": [
    {
     "name": "stdout",
     "output_type": "stream",
     "text": [
      "💹HIGHEST AGE PEOPLE USED PLATFORMS\n",
      "Software Platform\n",
      "Canva    [49, 48, 47, 44, 44, 43, 41, 36, 31, 30, 25, 2...\n",
      "Zoom     [47, 44, 44, 43, 41, 41, 39, 31, 28, 28, 26, 2...\n",
      "Name: Age, dtype: object\n"
     ]
    }
   ],
   "source": [
    "print(\"💹HIGHEST AGE PEOPLE USED PLATFORMS\")\n",
    "age=turned_data.sort_values('Age',ascending=False).groupby('Software Platform')['Age'].apply(list)\n",
    "print(age)"
   ]
  },
  {
   "cell_type": "code",
   "execution_count": null,
   "id": "e9fa1ca8-71fd-4878-b6c5-c8db5eb34369",
   "metadata": {},
   "outputs": [],
   "source": []
  }
 ],
 "metadata": {
  "kernelspec": {
   "display_name": "Python 3 (ipykernel)",
   "language": "python",
   "name": "python3"
  },
  "language_info": {
   "codemirror_mode": {
    "name": "ipython",
    "version": 3
   },
   "file_extension": ".py",
   "mimetype": "text/x-python",
   "name": "python",
   "nbconvert_exporter": "python",
   "pygments_lexer": "ipython3",
   "version": "3.13.1"
  }
 },
 "nbformat": 4,
 "nbformat_minor": 5
}
